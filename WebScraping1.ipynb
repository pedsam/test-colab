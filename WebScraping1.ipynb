{
  "nbformat": 4,
  "nbformat_minor": 0,
  "metadata": {
    "colab": {
      "name": "Untitled2.ipynb",
      "provenance": [],
      "authorship_tag": "ABX9TyMYb/DEnHJFjr4f3bySNtQd",
      "include_colab_link": true
    },
    "kernelspec": {
      "name": "python3",
      "display_name": "Python 3"
    },
    "language_info": {
      "name": "python"
    }
  },
  "cells": [
    {
      "cell_type": "markdown",
      "metadata": {
        "id": "view-in-github",
        "colab_type": "text"
      },
      "source": [
        "<a href=\"https://colab.research.google.com/github/pedsam/test-colab/blob/main/WebScraping1.ipynb\" target=\"_parent\"><img src=\"https://colab.research.google.com/assets/colab-badge.svg\" alt=\"Open In Colab\"/></a>"
      ]
    },
    {
      "cell_type": "code",
      "execution_count": 3,
      "metadata": {
        "id": "ToHKrQfjYqQS"
      },
      "outputs": [],
      "source": [
        "import requests\n",
        "from bs4 import  BeautifulSoup"
      ]
    },
    {
      "cell_type": "code",
      "source": [
        "url = 'https://www.goalcast.com/top-20-inspiring-bruce-lee-quotes/'\n",
        "response = requests.get(url)\n",
        "response.status_code"
      ],
      "metadata": {
        "colab": {
          "base_uri": "https://localhost:8080/"
        },
        "id": "8-4aq2qjYtZY",
        "outputId": "f52a2923-c360-496e-edf7-5cb48d1bc1a0"
      },
      "execution_count": 6,
      "outputs": [
        {
          "output_type": "execute_result",
          "data": {
            "text/plain": [
              "200"
            ]
          },
          "metadata": {},
          "execution_count": 6
        }
      ]
    },
    {
      "cell_type": "code",
      "source": [
        "soup = BeautifulSoup(response.text, 'lxml')"
      ],
      "metadata": {
        "id": "T5zGzll6aZnQ"
      },
      "execution_count": 9,
      "outputs": []
    },
    {
      "cell_type": "code",
      "source": [
        "quotes = soup.find_all('blockquote')"
      ],
      "metadata": {
        "id": "6ku7yQbHa6hE"
      },
      "execution_count": 14,
      "outputs": []
    },
    {
      "cell_type": "code",
      "source": [
        "for quote in quotes:\n",
        "  print(quote.text,'\\n')"
      ],
      "metadata": {
        "colab": {
          "base_uri": "https://localhost:8080/"
        },
        "id": "RCNK3KSFbrZE",
        "outputId": "20631fcf-799a-4043-da3b-ab0698c34347"
      },
      "execution_count": 15,
      "outputs": [
        {
          "output_type": "stream",
          "name": "stdout",
          "text": [
            "If you spend too much time thinking about a thing, you’ll never get it done.– Bruce Lee \n",
            "\n",
            "I’m not in this world to live up to your expectations and you’re not in this world to live up to mine.\n",
            "– Bruce Lee \n",
            "\n",
            "Do not pray for an easy life, pray for the strength to endure a difficult one.– Bruce Lee \n",
            "\n",
            "A wise man can learn more from a foolish question than a fool can learn from a wise answer.– Bruce Lee \n",
            "\n",
            " Absorb what is useful, discard what is useless and add what is specifically your own.– Bruce Lee \n",
            "\n",
            "Mistakes are always forgivable, if one has the courage to admit them.– Bruce Lee \n",
            "\n",
            "To hell with circumstances; I create opportunities.– Bruce Lee \n",
            "\n",
            "I fear not the man who has practiced 10,000 kicks once, but I fear the man who has practiced one kick 10,000 times.– Bruce Lee \n",
            "\n",
            "Real living is living for others.– Bruce Lee \n",
            "\n",
            "The more we value things, the less we value ourselves.–  Bruce Lee \n",
            "\n",
            "If you love life, don’t waste time, for time is what life is made up of.– Bruce Lee \n",
            "\n",
            "Showing off is the fool’s idea of glory.– Bruce Lee \n",
            "\n",
            "Life’s battles don’t always go to the stronger or faster man. But sooner or later the man who wins, is the man who thinks he can.– Bruce Lee \n",
            "\n",
            "‎The successful warrior is the average man, with laser-like focus.– Bruce Lee \n",
            "\n",
            "Knowing is not enough, we must apply. Willing is not enough, we must do.– Bruce Lee \n",
            "\n",
            "In the middle of chaos lies opportunity.– Bruce Lee \n",
            "\n",
            "For it is easy to criticize and break down the spirit of others, but to know yourself takes a lifetime.– Bruce Lee \n",
            "\n",
            "Be happy, but never satisfied.– Bruce Lee \n",
            "\n",
            "Always be yourself, express yourself, have faith in yourself, do not go out and look for a successful personality and duplicate it.– Bruce Lee \n",
            "\n",
            "The key to immortality is first living a life worth remembering.– Bruce Lee \n",
            "\n",
            "You must be shapeless, formless, like water. When you pour water in a cup, it becomes the cup. When you pour water in a bottle, it becomes the bottle. When you pour water in a teapot, it becomes the teapot. Water can drip and it can crash. Become like water my friend.― Bruce Lee \n",
            "\n"
          ]
        }
      ]
    },
    {
      "cell_type": "code",
      "source": [
        ""
      ],
      "metadata": {
        "id": "pN_ePc3-dTvj"
      },
      "execution_count": null,
      "outputs": []
    }
  ]
}